{
 "cells": [
  {
   "cell_type": "markdown",
   "metadata": {},
   "source": [
    "<h1>Heart Disease UCI</h1>"
   ]
  },
  {
   "cell_type": "markdown",
   "metadata": {},
   "source": [
    "<h3>Attribute Information</h3>\n",
    "\n",
    "> 1. age \n",
    "> 2. sex \n",
    "> 3. chest pain type (4 values) \n",
    "> 4. resting blood pressure \n",
    "> 5. serum cholestoral in mg/dl \n",
    "> 6. fasting blood sugar > 120 mg/dl\n",
    "> 7. resting electrocardiographic results (values 0,1,2)\n",
    "> 8. maximum heart rate achieved \n",
    "> 9. exercise induced angina \n",
    "> 10. oldpeak = ST depression induced by exercise relative to rest \n",
    "> 11. the slope of the peak exercise ST segment \n",
    "> 12. number of major vessels (0-3) colored by flourosopy \n",
    "> 13. thal: 3 = normal; 6 = fixed defect; 7 = reversable defect\n",
    "The names and social security numbers of the patients were recently removed from the database, replaced with dummy values. One file has been \"processed\", that one containing the Cleveland database. All four unprocessed files also exist in this directory.\n"
   ]
  },
  {
   "cell_type": "markdown",
   "metadata": {},
   "source": [
    "<h3>Objective</h3>\n",
    "\n",
    "For the given attribute values the model need to predict the whether the patient is victim of heart disease or not  "
   ]
  },
  {
   "cell_type": "markdown",
   "metadata": {},
   "source": [
    "<h3>References</h3>\n",
    "\n",
    "1.https://www.kaggle.com/ronitf/heart-disease-uci\n",
    "\n",
    "2.https://archive.ics.uci.edu/ml/datasets/Heart+Disease"
   ]
  },
  {
   "cell_type": "code",
   "execution_count": 1,
   "metadata": {},
   "outputs": [
    {
     "name": "stderr",
     "output_type": "stream",
     "text": [
      "/usr/local/lib/python3.5/dist-packages/sklearn/externals/joblib/__init__.py:15: DeprecationWarning: sklearn.externals.joblib is deprecated in 0.21 and will be removed in 0.23. Please import this functionality directly from joblib, which can be installed with: pip install joblib. If this warning is raised when loading pickled models, you may need to re-serialize those models with scikit-learn 0.21+.\n",
      "  warnings.warn(msg, category=DeprecationWarning)\n"
     ]
    }
   ],
   "source": [
    "#For Data loading and preprocessing\n",
    "import pandas as pd\n",
    "\n",
    "#For matrix operations\n",
    "import numpy as np\n",
    "\n",
    "#For plotting\n",
    "import matplotlib.pyplot as plt\n",
    "import seaborn as sns\n",
    "\n",
    "#For splitting the data\n",
    "from sklearn.model_selection import train_test_split\n",
    "\n",
    "#For data preprocessing\n",
    "from sklearn.preprocessing import StandardScaler\n",
    "\n",
    "#For hyperparameter tuning\n",
    "from sklearn.model_selection import RandomizedSearchCV,GridSearchCV\n",
    "#For appling LogisticRegression\n",
    "from sklearn.linear_model import LogisticRegression\n",
    "\n",
    "#For model/vatiable persistence \n",
    "from sklearn.externals import joblib\n",
    "\n",
    "#For math operations\n",
    "import math \n",
    "\n",
    "#To see the progress of the iterations\n",
    "#from tqdm import tqdm\n",
    "\n",
    "#Performance metrices\n",
    "from sklearn.metrics import roc_auc_score,roc_curve,auc,log_loss,confusion_matrix\n",
    "\n",
    "#For ignoring warnings\n",
    "import warnings\n",
    "warnings.filterwarnings(\"ignore\")"
   ]
  },
  {
   "cell_type": "code",
   "execution_count": 2,
   "metadata": {},
   "outputs": [
    {
     "name": "stdout",
     "output_type": "stream",
     "text": [
      "(1025, 14)\n"
     ]
    },
    {
     "data": {
      "text/html": [
       "<div>\n",
       "<style scoped>\n",
       "    .dataframe tbody tr th:only-of-type {\n",
       "        vertical-align: middle;\n",
       "    }\n",
       "\n",
       "    .dataframe tbody tr th {\n",
       "        vertical-align: top;\n",
       "    }\n",
       "\n",
       "    .dataframe thead th {\n",
       "        text-align: right;\n",
       "    }\n",
       "</style>\n",
       "<table border=\"1\" class=\"dataframe\">\n",
       "  <thead>\n",
       "    <tr style=\"text-align: right;\">\n",
       "      <th></th>\n",
       "      <th>age</th>\n",
       "      <th>sex</th>\n",
       "      <th>cp</th>\n",
       "      <th>trestbps</th>\n",
       "      <th>chol</th>\n",
       "      <th>fbs</th>\n",
       "      <th>restecg</th>\n",
       "      <th>thalach</th>\n",
       "      <th>exang</th>\n",
       "      <th>oldpeak</th>\n",
       "      <th>slope</th>\n",
       "      <th>ca</th>\n",
       "      <th>thal</th>\n",
       "      <th>target</th>\n",
       "    </tr>\n",
       "  </thead>\n",
       "  <tbody>\n",
       "    <tr>\n",
       "      <th>0</th>\n",
       "      <td>52</td>\n",
       "      <td>1</td>\n",
       "      <td>0</td>\n",
       "      <td>125</td>\n",
       "      <td>212</td>\n",
       "      <td>0</td>\n",
       "      <td>1</td>\n",
       "      <td>168</td>\n",
       "      <td>0</td>\n",
       "      <td>1.0</td>\n",
       "      <td>2</td>\n",
       "      <td>2</td>\n",
       "      <td>3</td>\n",
       "      <td>0</td>\n",
       "    </tr>\n",
       "    <tr>\n",
       "      <th>1</th>\n",
       "      <td>53</td>\n",
       "      <td>1</td>\n",
       "      <td>0</td>\n",
       "      <td>140</td>\n",
       "      <td>203</td>\n",
       "      <td>1</td>\n",
       "      <td>0</td>\n",
       "      <td>155</td>\n",
       "      <td>1</td>\n",
       "      <td>3.1</td>\n",
       "      <td>0</td>\n",
       "      <td>0</td>\n",
       "      <td>3</td>\n",
       "      <td>0</td>\n",
       "    </tr>\n",
       "    <tr>\n",
       "      <th>2</th>\n",
       "      <td>70</td>\n",
       "      <td>1</td>\n",
       "      <td>0</td>\n",
       "      <td>145</td>\n",
       "      <td>174</td>\n",
       "      <td>0</td>\n",
       "      <td>1</td>\n",
       "      <td>125</td>\n",
       "      <td>1</td>\n",
       "      <td>2.6</td>\n",
       "      <td>0</td>\n",
       "      <td>0</td>\n",
       "      <td>3</td>\n",
       "      <td>0</td>\n",
       "    </tr>\n",
       "    <tr>\n",
       "      <th>3</th>\n",
       "      <td>61</td>\n",
       "      <td>1</td>\n",
       "      <td>0</td>\n",
       "      <td>148</td>\n",
       "      <td>203</td>\n",
       "      <td>0</td>\n",
       "      <td>1</td>\n",
       "      <td>161</td>\n",
       "      <td>0</td>\n",
       "      <td>0.0</td>\n",
       "      <td>2</td>\n",
       "      <td>1</td>\n",
       "      <td>3</td>\n",
       "      <td>0</td>\n",
       "    </tr>\n",
       "    <tr>\n",
       "      <th>4</th>\n",
       "      <td>62</td>\n",
       "      <td>0</td>\n",
       "      <td>0</td>\n",
       "      <td>138</td>\n",
       "      <td>294</td>\n",
       "      <td>1</td>\n",
       "      <td>1</td>\n",
       "      <td>106</td>\n",
       "      <td>0</td>\n",
       "      <td>1.9</td>\n",
       "      <td>1</td>\n",
       "      <td>3</td>\n",
       "      <td>2</td>\n",
       "      <td>0</td>\n",
       "    </tr>\n",
       "  </tbody>\n",
       "</table>\n",
       "</div>"
      ],
      "text/plain": [
       "   age  sex  cp  trestbps  chol  fbs  restecg  thalach  exang  oldpeak  slope  \\\n",
       "0   52    1   0       125   212    0        1      168      0      1.0      2   \n",
       "1   53    1   0       140   203    1        0      155      1      3.1      0   \n",
       "2   70    1   0       145   174    0        1      125      1      2.6      0   \n",
       "3   61    1   0       148   203    0        1      161      0      0.0      2   \n",
       "4   62    0   0       138   294    1        1      106      0      1.9      1   \n",
       "\n",
       "   ca  thal  target  \n",
       "0   2     3       0  \n",
       "1   0     3       0  \n",
       "2   0     3       0  \n",
       "3   1     3       0  \n",
       "4   3     2       0  "
      ]
     },
     "execution_count": 2,
     "metadata": {},
     "output_type": "execute_result"
    }
   ],
   "source": [
    "data = pd.read_csv('heart_.csv')\n",
    "print(data.shape)\n",
    "data.head(5)"
   ]
  },
  {
   "cell_type": "markdown",
   "metadata": {},
   "source": [
    "<h2>Exploratory Data Analysis</h2>"
   ]
  },
  {
   "cell_type": "markdown",
   "metadata": {},
   "source": [
    "### 1. Check the data is balanced or not"
   ]
  },
  {
   "cell_type": "code",
   "execution_count": 3,
   "metadata": {
    "scrolled": true
   },
   "outputs": [
    {
     "data": {
      "image/png": "[encoded data removed]",
      "text/plain": [
       "<Figure size 432x288 with 1 Axes>"
      ]
     },
     "metadata": {},
     "output_type": "display_data"
    }
   ],
   "source": [
    "sns.set(style=\"whitegrid\")\n",
    "sns.countplot(data.target)\n",
    "plt.title(\"Target labels\")\n",
    "plt.show()\n"
   ]
  },
  {
   "cell_type": "markdown",
   "metadata": {},
   "source": [
    "#### Observation(s):  Data is not imbalanced "
   ]
  },
  {
   "cell_type": "markdown",
   "metadata": {},
   "source": [
    "<h2>2.Check for any outliers or Null values</h2>"
   ]
  },
  {
   "cell_type": "code",
   "execution_count": 4,
   "metadata": {},
   "outputs": [
    {
     "data": {
      "text/plain": [
       "age         0\n",
       "sex         0\n",
       "cp          0\n",
       "trestbps    0\n",
       "chol        0\n",
       "fbs         0\n",
       "restecg     0\n",
       "thalach     0\n",
       "exang       0\n",
       "oldpeak     0\n",
       "slope       0\n",
       "ca          0\n",
       "thal        0\n",
       "target      0\n",
       "dtype: int64"
      ]
     },
     "execution_count": 4,
     "metadata": {},
     "output_type": "execute_result"
    }
   ],
   "source": [
    "data.isnull().sum()"
   ]
  },
  {
   "cell_type": "code",
   "execution_count": 5,
   "metadata": {},
   "outputs": [
    {
     "data": {
      "text/plain": [
       "<matplotlib.axes._subplots.AxesSubplot at 0x7f0a9a24bda0>"
      ]
     },
     "execution_count": 5,
     "metadata": {},
     "output_type": "execute_result"
    },
    {
     "data": {
      "image/png": "[encoded data removed]",
      "text/plain": [
       "<Figure size 720x432 with 1 Axes>"
      ]
     },
     "metadata": {},
     "output_type": "display_data"
    }
   ],
   "source": [
    "sns.set(style=\"whitegrid\")\n",
    "plt.figure(figsize=(10, 6))\n",
    "sns.boxplot(data=data[['age','trestbps','chol','thalach']])"
   ]
  },
  {
   "cell_type": "code",
   "execution_count": 6,
   "metadata": {},
   "outputs": [
    {
     "data": {
      "text/plain": [
       "<matplotlib.axes._subplots.AxesSubplot at 0x7f0a96a2b390>"
      ]
     },
     "execution_count": 6,
     "metadata": {},
     "output_type": "execute_result"
    },
    {
     "data": {
      "image/png": "[encoded data removed]",
      "text/plain": [
       "<Figure size 1080x432 with 1 Axes>"
      ]
     },
     "metadata": {},
     "output_type": "display_data"
    }
   ],
   "source": [
    "plt.figure(figsize=(15, 6))\n",
    "sns.boxplot(data=data[[\"sex\",\"cp\",\"fbs\",\"restecg\",\"exang\",\"oldpeak\",\"slope\",\"ca\",\"thal\"]])"
   ]
  },
  {
   "cell_type": "markdown",
   "metadata": {},
   "source": [
    "#### Observation(s):\n",
    "1. From above two plots it is clear that data is not suffering from either outliers or Null values"
   ]
  },
  {
   "cell_type": "markdown",
   "metadata": {},
   "source": [
    "<h2>Take a look at some important features</h2>"
   ]
  },
  {
   "cell_type": "code",
   "execution_count": 7,
   "metadata": {},
   "outputs": [
    {
     "data": {
      "image/png": "[encoded data removed]",
      "text/plain": [
       "<Figure size 406.6x360 with 1 Axes>"
      ]
     },
     "metadata": {},
     "output_type": "display_data"
    }
   ],
   "source": [
    "#Checking \"(thalach) Maxmium heart rate feature\"  \n",
    "\n",
    "sns.FacetGrid(data, hue=\"target\", size=5) \\\n",
    "   .map(sns.distplot, \"thalach\") \\\n",
    "   .add_legend();\n",
    "plt.show();"
   ]
  },
  {
   "cell_type": "code",
   "execution_count": 8,
   "metadata": {},
   "outputs": [
    {
     "data": {
      "image/png": "[encoded data removed]",
      "text/plain": [
       "<Figure size 406.6x360 with 1 Axes>"
      ]
     },
     "metadata": {},
     "output_type": "display_data"
    }
   ],
   "source": [
    "#As we know that \"Age\" is important factor in disease diagnosis. Hence cheking \"age\" feature   \n",
    "\n",
    "sns.FacetGrid(data, hue=\"target\", size=5) \\\n",
    "   .map(sns.distplot, \"age\") \\\n",
    "   .add_legend();\n",
    "plt.show();"
   ]
  },
  {
   "cell_type": "code",
   "execution_count": 9,
   "metadata": {},
   "outputs": [
    {
     "data": {
      "image/png": "[encoded data removed]",
      "text/plain": [
       "<Figure size 406.6x360 with 1 Axes>"
      ]
     },
     "metadata": {},
     "output_type": "display_data"
    }
   ],
   "source": [
    "# Checking cholesterol feature\n",
    "sns.FacetGrid(data, hue=\"target\", size=5) \\\n",
    "   .map(sns.distplot, \"chol\") \\\n",
    "   .add_legend();\n",
    "plt.show();"
   ]
  },
  {
   "cell_type": "code",
   "execution_count": 10,
   "metadata": {},
   "outputs": [
    {
     "data": {
      "image/png": "[encoded data removed]",
      "text/plain": [
       "<Figure size 406.6x360 with 1 Axes>"
      ]
     },
     "metadata": {},
     "output_type": "display_data"
    }
   ],
   "source": [
    "#Checking resting bloop pressure\n",
    "sns.FacetGrid(data, hue=\"target\", size=5) \\\n",
    "   .map(sns.distplot, \"trestbps\") \\\n",
    "   .add_legend();\n",
    "plt.show();"
   ]
  },
  {
   "cell_type": "markdown",
   "metadata": {},
   "source": [
    "<h2>3.Data Preprocessing</h2>"
   ]
  },
  {
   "cell_type": "code",
   "execution_count": 11,
   "metadata": {},
   "outputs": [],
   "source": [
    "Y= data.target\n",
    "data = data.drop(['target'],axis=1)"
   ]
  },
  {
   "cell_type": "code",
   "execution_count": 12,
   "metadata": {},
   "outputs": [],
   "source": [
    "column_names = data.columns.tolist()"
   ]
  },
  {
   "cell_type": "code",
   "execution_count": 13,
   "metadata": {},
   "outputs": [],
   "source": [
    "X_train, X_test, y_train, y_test = train_test_split(data, Y, train_size=0.80,shuffle=False)"
   ]
  },
  {
   "cell_type": "code",
   "execution_count": 14,
   "metadata": {},
   "outputs": [],
   "source": [
    "scaler= StandardScaler()\n",
    "X_train = scaler.fit_transform(X_train)\n",
    "X_test = scaler.transform(X_test)"
   ]
  },
  {
   "cell_type": "code",
   "execution_count": 15,
   "metadata": {},
   "outputs": [],
   "source": [
    "def plotErrors(k,train,cv):\n",
    "    plt.grid()   \n",
    "    plt.plot(k, train, label='Train logloss')\n",
    "    plt.plot(k, cv, label='CV logloss')\n",
    "    plt.legend()\n",
    "    plt.xlabel(\"log(C)= -log(λ)\")\n",
    "    plt.ylabel(\"Log Loss\")\n",
    "    plt.title(\"Error Plot for Train and Validation data\")\n",
    "    plt.show()"
   ]
  },
  {
   "cell_type": "code",
   "execution_count": 16,
   "metadata": {},
   "outputs": [],
   "source": [
    "def evaluate_this_model(clf):\n",
    "    print(\"Your model parameters are as below:\\n\")\n",
    "    print(clf)\n",
    "    print(\"-------------------------------------------------------------------------------\")\n",
    "    print(\"\\nTest and train results for this model:\")#\\n --------------------------------------------------------\")\n",
    "    \n",
    "    train_loss = log_loss(y_train, clf.predict_proba(X_train)[:,1])\n",
    "    test_loss  =log_loss(y_test, clf.predict_proba(X_test)[:,1])\n",
    "    print(\"\\nLog_loss on train data is :{}\".format(train_loss))\n",
    "    print(\"Log_loss on test data is :{}\\n \".format(test_loss))\n",
    "    \n",
    "    print(\"-------------------------------------------------------------------------------\")\n",
    "\n",
    "    \"\"\"train_fpr, train_tpr, thresholds = roc_curve(y_train, clf.predict_proba(X_train)[:,1])\n",
    "    test_fpr, test_tpr, thresholds = roc_curve(y_test, clf.predict_proba(X_test)[:,1])\n",
    "    plt.plot(train_fpr, train_tpr, label=\"train AUC =\"+str(auc(train_fpr, train_tpr)))\n",
    "    plt.plot(test_fpr, test_tpr, label=\"test AUC =\"+str(auc(test_fpr, test_tpr)))\n",
    "    plt.legend()\n",
    "    plt.xlabel(\"FPR\")\n",
    "    plt.ylabel(\"TPR\")\n",
    "    plt.title(\"ROC for Train and Test data with best_fit\")\n",
    "    plt.grid()\n",
    "    plt.show()\n",
    "    print(\"-------------------------------------------------------------------------------\")\"\"\"\n",
    "    print(\"Weight vector for this model is :\\n\\n{}\".format(clf.coef_[0]))\n",
    "    print(\"-------------------------------------------------------------------------------\")\n",
    "    print(\"\\nFeatures and its corresponding weights\\n\")\n",
    "    feature_weights=sorted(zip(clf.coef_[0],column_names),reverse = True)\n",
    "    [print(i) for i in feature_weights]"
   ]
  },
  {
   "cell_type": "markdown",
   "metadata": {},
   "source": [
    "<h2> 3. Understanding Sklearn's Logisitic Regression</h2>"
   ]
  },
  {
   "attachments": {
    "image.png": {
     "image/png": "[encoded data removed]"
    }
   },
   "cell_type": "markdown",
   "metadata": {},
   "source": [
    "![image.png](attachment:image.png)"
   ]
  },
  {
   "cell_type": "markdown",
   "metadata": {},
   "source": [
    "### Let's understand sklearns LR class on comparing with its objective function"
   ]
  },
  {
   "cell_type": "code",
   "execution_count": 17,
   "metadata": {},
   "outputs": [
    {
     "data": {
      "text/plain": [
       "LogisticRegression(C=1.0, class_weight=None, dual=False, fit_intercept=True,\n",
       "                   intercept_scaling=1, l1_ratio=None, max_iter=100,\n",
       "                   multi_class='warn', n_jobs=None, penalty='l2',\n",
       "                   random_state=None, solver='warn', tol=0.0001, verbose=0,\n",
       "                   warm_start=False)"
      ]
     },
     "execution_count": 17,
     "metadata": {},
     "output_type": "execute_result"
    }
   ],
   "source": [
    "clf = LogisticRegression()\n",
    "clf"
   ]
  },
  {
   "cell_type": "markdown",
   "metadata": {},
   "source": [
    "###### This is the sklearn's LR class with all default values"
   ]
  },
  {
   "cell_type": "markdown",
   "metadata": {},
   "source": [
    "\n",
    "#### 1. \"C\""
   ]
  },
  {
   "cell_type": "code",
   "execution_count": 18,
   "metadata": {
    "scrolled": false
   },
   "outputs": [
    {
     "name": "stdout",
     "output_type": "stream",
     "text": [
      "Your model parameters are as below:\n",
      "\n",
      "LogisticRegression(C=1000.0, class_weight=None, dual=False, fit_intercept=True,\n",
      "                   intercept_scaling=1, l1_ratio=None, max_iter=100,\n",
      "                   multi_class='warn', n_jobs=None, penalty='l2',\n",
      "                   random_state=None, solver='warn', tol=0.0001, verbose=0,\n",
      "                   warm_start=False)\n",
      "-------------------------------------------------------------------------------\n",
      "\n",
      "Test and train results for this model:\n",
      "\n",
      "Log_loss on train data is :0.32719236812013447\n",
      "Log_loss on test data is :0.45806777849211316\n",
      " \n",
      "-------------------------------------------------------------------------------\n",
      "Weight vector for this model is :\n",
      "\n",
      "[-0.12455692 -0.88948799  1.03216696 -0.26441447 -0.22509559 -0.07642303\n",
      "  0.15700353  0.48174716 -0.49273085 -0.72781503  0.38949513 -0.85329497\n",
      " -0.63443058]\n",
      "-------------------------------------------------------------------------------\n",
      "\n",
      "Features and its corresponding weights\n",
      "\n",
      "(1.0321669624904328, 'cp')\n",
      "(0.48174715590980904, 'thalach')\n",
      "(0.38949512955822096, 'slope')\n",
      "(0.1570035324417449, 'restecg')\n",
      "(-0.07642303414209752, 'fbs')\n",
      "(-0.12455692385146466, 'age')\n",
      "(-0.2250955866459862, 'chol')\n",
      "(-0.2644144690850754, 'trestbps')\n",
      "(-0.49273085281237977, 'exang')\n",
      "(-0.6344305836404299, 'thal')\n",
      "(-0.7278150255633602, 'oldpeak')\n",
      "(-0.8532949745896805, 'ca')\n",
      "(-0.8894879885933252, 'sex')\n"
     ]
    }
   ],
   "source": [
    "# 'λ' = 0.001 checking with small value\n",
    "Lambda = 0.001\n",
    "clf = LogisticRegression(C=1/Lambda ) \n",
    "clf.fit(X_train, y_train)\n",
    "evaluate_this_model(clf)"
   ]
  },
  {
   "cell_type": "markdown",
   "metadata": {},
   "source": [
    "##### Observe the log-loss for test and train data sets, there is considerabe difference,  the model is working very well on train data but not on test data, which also called overfitting "
   ]
  },
  {
   "cell_type": "code",
   "execution_count": 19,
   "metadata": {},
   "outputs": [
    {
     "name": "stdout",
     "output_type": "stream",
     "text": [
      "Your model parameters are as below:\n",
      "\n",
      "LogisticRegression(C=1e-05, class_weight=None, dual=False, fit_intercept=True,\n",
      "                   intercept_scaling=1, l1_ratio=None, max_iter=100,\n",
      "                   multi_class='warn', n_jobs=None, penalty='l2',\n",
      "                   random_state=None, solver='warn', tol=0.0001, verbose=0,\n",
      "                   warm_start=False)\n",
      "-------------------------------------------------------------------------------\n",
      "\n",
      "Test and train results for this model:\n",
      "\n",
      "Log_loss on train data is :0.6903127184269273\n",
      "Log_loss on test data is :0.6907921143095112\n",
      " \n",
      "-------------------------------------------------------------------------------\n",
      "Weight vector for this model is :\n",
      "\n",
      "[-0.00097575 -0.00116028  0.00189554 -0.00060655 -0.00044206 -0.0002498\n",
      "  0.0005475   0.00178048 -0.00181312 -0.00182101  0.00142233 -0.00161043\n",
      " -0.00139361]\n",
      "-------------------------------------------------------------------------------\n",
      "\n",
      "Features and its corresponding weights\n",
      "\n",
      "(0.0018955434342797339, 'cp')\n",
      "(0.0017804819808251915, 'thalach')\n",
      "(0.0014223321469612946, 'slope')\n",
      "(0.0005474959723399351, 'restecg')\n",
      "(-0.0002498031010218729, 'fbs')\n",
      "(-0.0004420644686067664, 'chol')\n",
      "(-0.0006065549124941328, 'trestbps')\n",
      "(-0.0009757504235391543, 'age')\n",
      "(-0.0011602779677760112, 'sex')\n",
      "(-0.001393608457735732, 'thal')\n",
      "(-0.0016104346218019034, 'ca')\n",
      "(-0.001813123977006201, 'exang')\n",
      "(-0.001821008377143017, 'oldpeak')\n"
     ]
    }
   ],
   "source": [
    "# 'λ' = 100000 checking with large value\n",
    "Lambda = 100000\n",
    "clf = LogisticRegression(C=1/Lambda) #instantiating LR into \"clf\" with lambda = 9000 (large value)\n",
    "clf.fit(X_train, y_train)\n",
    "evaluate_this_model(clf)"
   ]
  },
  {
   "cell_type": "markdown",
   "metadata": {},
   "source": [
    "###### Here the log loss is high in both test and train sets. This is also called underfitting  "
   ]
  },
  {
   "cell_type": "markdown",
   "metadata": {},
   "source": [
    " ###### 2. \"fit_intercept\" and \"intercept_scaling\""
   ]
  },
  {
   "cell_type": "code",
   "execution_count": 20,
   "metadata": {},
   "outputs": [
    {
     "name": "stdout",
     "output_type": "stream",
     "text": [
      "Intercept value is: 0.0 \n",
      "\n",
      "And weights vaector is : \n"
     ]
    },
    {
     "data": {
      "text/plain": [
       "array([-0.11503898, -0.35612941,  0.46682107, -0.11094516, -0.07448729,\n",
       "       -0.02244197,  0.09372189,  0.29787813, -0.3261558 , -0.35116857,\n",
       "        0.22226229, -0.39779298, -0.32181629])"
      ]
     },
     "execution_count": 20,
     "metadata": {},
     "output_type": "execute_result"
    }
   ],
   "source": [
    "\n",
    "Lambda = 100\n",
    "clf = LogisticRegression(C=1/Lambda,intercept_scaling=0,fit_intercept=False) \n",
    "clf.fit(X_train, y_train)\n",
    "#evaluate_this_model(clf)\n",
    "\n",
    "print(\"Intercept value is: {} \".format(clf.intercept_))\n",
    "print(\"\\nAnd weights vaector is : \")\n",
    "(clf.coef_[0])"
   ]
  },
  {
   "cell_type": "code",
   "execution_count": 21,
   "metadata": {},
   "outputs": [
    {
     "name": "stdout",
     "output_type": "stream",
     "text": [
      "Intercept value is: [0.02812662] \n",
      "\n",
      "And weights vaector is : \n"
     ]
    },
    {
     "data": {
      "text/plain": [
       "array([-0.1162764 , -0.35704289,  0.46627204, -0.1108161 , -0.07415849,\n",
       "       -0.02243657,  0.09358206,  0.29687079, -0.32536579, -0.34947532,\n",
       "        0.22238931, -0.39660736, -0.3211878 ])"
      ]
     },
     "execution_count": 21,
     "metadata": {},
     "output_type": "execute_result"
    }
   ],
   "source": [
    "\n",
    "Lambda = 100\n",
    "clf = LogisticRegression(C=1/Lambda,intercept_scaling=1,fit_intercept=True) \n",
    "clf.fit(X_train, y_train)\n",
    "#evaluate_this_model(clf)\n",
    "\n",
    "print(\"Intercept value is: {} \".format(clf.intercept_))\n",
    "print(\"\\nAnd weights vaector is : \")\n",
    "(clf.coef_[0])"
   ]
  },
  {
   "cell_type": "code",
   "execution_count": 22,
   "metadata": {},
   "outputs": [
    {
     "name": "stdout",
     "output_type": "stream",
     "text": [
      "Intercept value is: [0.04928081] \n",
      "\n",
      "And weights vaector is : \n"
     ]
    },
    {
     "data": {
      "text/plain": [
       "array([-0.11722561, -0.35780248,  0.46593056, -0.11073453, -0.07392053,\n",
       "       -0.02245998,  0.09351367,  0.29621549, -0.3248254 , -0.34831123,\n",
       "        0.22246425, -0.39577759, -0.32080999])"
      ]
     },
     "execution_count": 22,
     "metadata": {},
     "output_type": "execute_result"
    }
   ],
   "source": [
    "\n",
    "Lambda = 100\n",
    "clf = LogisticRegression(C=1/Lambda,intercept_scaling=100,fit_intercept=True) \n",
    "clf.fit(X_train, y_train)\n",
    "#evaluate_this_model(clf)\n",
    "\n",
    "print(\"Intercept value is: {} \".format(clf.intercept_))\n",
    "print(\"\\nAnd weights vaector is : \")\n",
    "(clf.coef_[0])"
   ]
  },
  {
   "cell_type": "code",
   "execution_count": 23,
   "metadata": {},
   "outputs": [
    {
     "name": "stdout",
     "output_type": "stream",
     "text": [
      "Intercept value is: [0.0829744] \n",
      "\n",
      "And weights vaector is : \n"
     ]
    },
    {
     "data": {
      "text/plain": [
       "array([-9.59706326e-15, -1.13704947e-14,  1.85981790e-14, -5.96488113e-15,\n",
       "       -4.34813235e-15, -2.46043593e-15,  5.37956881e-15,  1.74926590e-14,\n",
       "       -1.78053777e-14, -1.78886590e-14,  1.39798116e-14, -1.58015051e-14,\n",
       "       -1.36750724e-14])"
      ]
     },
     "execution_count": 23,
     "metadata": {},
     "output_type": "execute_result"
    }
   ],
   "source": [
    "\n",
    "Lambda = 100\n",
    "clf = LogisticRegression(C=1/Lambda,intercept_scaling=10000000,fit_intercept=True) \n",
    "clf.fit(X_train, y_train)\n",
    "#evaluate_this_model(clf)\n",
    "\n",
    "print(\"Intercept value is: {} \".format(clf.intercept_))\n",
    "print(\"\\nAnd weights vaector is : \")\n",
    "(clf.coef_[0])"
   ]
  },
  {
   "cell_type": "markdown",
   "metadata": {},
   "source": [
    "##### we can see that as we scale up the intercept, the prediction weights are decreasing"
   ]
  },
  {
   "cell_type": "markdown",
   "metadata": {},
   "source": [
    "##### 3. \"tol\" (tolerance) and \"max_iter\""
   ]
  },
  {
   "cell_type": "code",
   "execution_count": 24,
   "metadata": {},
   "outputs": [
    {
     "name": "stdout",
     "output_type": "stream",
     "text": [
      "Your model parameters are as below:\n",
      "\n",
      "LogisticRegression(C=0.01, class_weight=None, dual=False, fit_intercept=True,\n",
      "                   intercept_scaling=1, l1_ratio=None, max_iter=100,\n",
      "                   multi_class='warn', n_jobs=None, penalty='l2',\n",
      "                   random_state=None, solver='warn', tol=1, verbose=0,\n",
      "                   warm_start=False)\n",
      "-------------------------------------------------------------------------------\n",
      "\n",
      "Test and train results for this model:\n",
      "\n",
      "Log_loss on train data is :0.4121313041362496\n",
      "Log_loss on test data is :0.4732552200029832\n",
      " \n",
      "-------------------------------------------------------------------------------\n",
      "Weight vector for this model is :\n",
      "\n",
      "[-0.08697916 -0.2762315   0.35872764 -0.05795355 -0.03867474 -0.00777937\n",
      "  0.07115102  0.23948599 -0.27709605 -0.25392417  0.16691816 -0.3019423\n",
      " -0.25689663]\n",
      "-------------------------------------------------------------------------------\n",
      "\n",
      "Features and its corresponding weights\n",
      "\n",
      "(0.3587276354269305, 'cp')\n",
      "(0.2394859946195237, 'thalach')\n",
      "(0.16691816472133347, 'slope')\n",
      "(0.07115102363786635, 'restecg')\n",
      "(-0.007779374622812328, 'fbs')\n",
      "(-0.03867473832721112, 'chol')\n",
      "(-0.0579535522129404, 'trestbps')\n",
      "(-0.08697915607439785, 'age')\n",
      "(-0.25392417280319046, 'oldpeak')\n",
      "(-0.25689662921516887, 'thal')\n",
      "(-0.2762315037897758, 'sex')\n",
      "(-0.277096048198412, 'exang')\n",
      "(-0.30194230160286906, 'ca')\n"
     ]
    }
   ],
   "source": [
    "#Default value for tolerance is tol=0.0001\n",
    "Lambda = 100\n",
    "clf = LogisticRegression(C=1/Lambda,tol=1) \n",
    "clf.fit(X_train, y_train)\n",
    "evaluate_this_model(clf)"
   ]
  },
  {
   "cell_type": "code",
   "execution_count": 25,
   "metadata": {},
   "outputs": [
    {
     "name": "stdout",
     "output_type": "stream",
     "text": [
      "Your model parameters are as below:\n",
      "\n",
      "LogisticRegression(C=0.01, class_weight=None, dual=False, fit_intercept=True,\n",
      "                   intercept_scaling=1, l1_ratio=None, max_iter=100,\n",
      "                   multi_class='warn', n_jobs=None, penalty='l2',\n",
      "                   random_state=None, solver='warn', tol=1e-15, verbose=0,\n",
      "                   warm_start=False)\n",
      "-------------------------------------------------------------------------------\n",
      "\n",
      "Test and train results for this model:\n",
      "\n",
      "Log_loss on train data is :0.377080482519137\n",
      "Log_loss on test data is :0.45023552385527704\n",
      " \n",
      "-------------------------------------------------------------------------------\n",
      "Weight vector for this model is :\n",
      "\n",
      "[-0.11627099 -0.35707662  0.46629302 -0.11083093 -0.07416935 -0.02245805\n",
      "  0.0935981   0.29692583 -0.32536036 -0.34952112  0.22235793 -0.39662025\n",
      " -0.32122503]\n",
      "-------------------------------------------------------------------------------\n",
      "\n",
      "Features and its corresponding weights\n",
      "\n",
      "(0.46629301711422655, 'cp')\n",
      "(0.2969258338333356, 'thalach')\n",
      "(0.22235793114732597, 'slope')\n",
      "(0.09359810140191807, 'restecg')\n",
      "(-0.022458048329384906, 'fbs')\n",
      "(-0.07416935234142084, 'chol')\n",
      "(-0.1108309294829257, 'trestbps')\n",
      "(-0.1162709878730006, 'age')\n",
      "(-0.3212250259193159, 'thal')\n",
      "(-0.32536036252340195, 'exang')\n",
      "(-0.34952112120467754, 'oldpeak')\n",
      "(-0.3570766199489693, 'sex')\n",
      "(-0.39662024523606654, 'ca')\n"
     ]
    }
   ],
   "source": [
    "Lambda = 100\n",
    "clf = LogisticRegression(C=1/Lambda, tol=1e-15 ) \n",
    "clf.fit(X_train, y_train)\n",
    "evaluate_this_model(clf)"
   ]
  },
  {
   "cell_type": "code",
   "execution_count": 26,
   "metadata": {},
   "outputs": [
    {
     "name": "stdout",
     "output_type": "stream",
     "text": [
      "Your model parameters are as below:\n",
      "\n",
      "LogisticRegression(C=0.01, class_weight=None, dual=False, fit_intercept=True,\n",
      "                   intercept_scaling=1, l1_ratio=None, max_iter=1000,\n",
      "                   multi_class='warn', n_jobs=None, penalty='l2',\n",
      "                   random_state=None, solver='warn', tol=0.001, verbose=0,\n",
      "                   warm_start=False)\n",
      "-------------------------------------------------------------------------------\n",
      "\n",
      "Test and train results for this model:\n",
      "\n",
      "Log_loss on train data is :0.37708852725197956\n",
      "Log_loss on test data is :0.45024117101913325\n",
      " \n",
      "-------------------------------------------------------------------------------\n",
      "Weight vector for this model is :\n",
      "\n",
      "[-0.1162764  -0.35704289  0.46627204 -0.1108161  -0.07415849 -0.02243657\n",
      "  0.09358206  0.29687079 -0.32536579 -0.34947532  0.22238931 -0.39660736\n",
      " -0.3211878 ]\n",
      "-------------------------------------------------------------------------------\n",
      "\n",
      "Features and its corresponding weights\n",
      "\n",
      "(0.4662720387604094, 'cp')\n",
      "(0.2968707859405776, 'thalach')\n",
      "(0.222389314615357, 'slope')\n",
      "(0.09358206343534867, 'restecg')\n",
      "(-0.0224365681261141, 'fbs')\n",
      "(-0.07415848778475895, 'chol')\n",
      "(-0.11081610040096022, 'trestbps')\n",
      "(-0.11627640061354413, 'age')\n",
      "(-0.32118780446572726, 'thal')\n",
      "(-0.3253657900339657, 'exang')\n",
      "(-0.34947531739243887, 'oldpeak')\n",
      "(-0.3570428886554475, 'sex')\n",
      "(-0.39660736288399423, 'ca')\n"
     ]
    }
   ],
   "source": [
    "Lambda = 100\n",
    "clf = LogisticRegression(C=1/Lambda,max_iter =1000, tol=1e-3) \n",
    "clf.fit(X_train, y_train)\n",
    "evaluate_this_model(clf)"
   ]
  },
  {
   "cell_type": "code",
   "execution_count": 27,
   "metadata": {},
   "outputs": [
    {
     "name": "stdout",
     "output_type": "stream",
     "text": [
      "Your model parameters are as below:\n",
      "\n",
      "LogisticRegression(C=0.01, class_weight=None, dual=False, fit_intercept=True,\n",
      "                   intercept_scaling=1, l1_ratio=None, max_iter=1000,\n",
      "                   multi_class='warn', n_jobs=None, penalty='l2',\n",
      "                   random_state=None, solver='warn', tol=3, verbose=0,\n",
      "                   warm_start=False)\n",
      "-------------------------------------------------------------------------------\n",
      "\n",
      "Test and train results for this model:\n",
      "\n",
      "Log_loss on train data is :0.6931471805599453\n",
      "Log_loss on test data is :0.6931471805599453\n",
      " \n",
      "-------------------------------------------------------------------------------\n",
      "Weight vector for this model is :\n",
      "\n",
      "[0. 0. 0. 0. 0. 0. 0. 0. 0. 0. 0. 0. 0.]\n",
      "-------------------------------------------------------------------------------\n",
      "\n",
      "Features and its corresponding weights\n",
      "\n",
      "(0.0, 'trestbps')\n",
      "(0.0, 'thalach')\n",
      "(0.0, 'thal')\n",
      "(0.0, 'slope')\n",
      "(0.0, 'sex')\n",
      "(0.0, 'restecg')\n",
      "(0.0, 'oldpeak')\n",
      "(0.0, 'fbs')\n",
      "(0.0, 'exang')\n",
      "(0.0, 'cp')\n",
      "(0.0, 'chol')\n",
      "(0.0, 'ca')\n",
      "(0.0, 'age')\n"
     ]
    }
   ],
   "source": [
    "Lambda = 100\n",
    "clf = LogisticRegression(C=1/Lambda,max_iter =1000, tol=3 ) \n",
    "clf.fit(X_train, y_train)\n",
    "evaluate_this_model(clf)"
   ]
  },
  {
   "cell_type": "markdown",
   "metadata": {},
   "source": [
    "#### Here i have given \"tol = 3\" which means we are stopping the algorithm at very first level hence we got all weights as zero"
   ]
  },
  {
   "cell_type": "markdown",
   "metadata": {},
   "source": [
    "#### 4. solver"
   ]
  },
  {
   "cell_type": "code",
   "execution_count": 28,
   "metadata": {},
   "outputs": [
    {
     "name": "stdout",
     "output_type": "stream",
     "text": [
      "Your model parameters are as below:\n",
      "\n",
      "LogisticRegression(C=0.01, class_weight=None, dual=False, fit_intercept=True,\n",
      "                   intercept_scaling=1, l1_ratio=None, max_iter=100,\n",
      "                   multi_class='warn', n_jobs=None, penalty='l2',\n",
      "                   random_state=None, solver='saga', tol=0.0001, verbose=0,\n",
      "                   warm_start=False)\n",
      "-------------------------------------------------------------------------------\n",
      "\n",
      "Test and train results for this model:\n",
      "\n",
      "Log_loss on train data is :0.37717630640012334\n",
      "Log_loss on test data is :0.4506482877911682\n",
      " \n",
      "-------------------------------------------------------------------------------\n",
      "Weight vector for this model is :\n",
      "\n",
      "[-0.11723305 -0.3578128   0.46593193 -0.11074043 -0.07392851 -0.02247491\n",
      "  0.0935308   0.29621871 -0.32482129 -0.34829004  0.22249142 -0.39577428\n",
      " -0.32079896]\n",
      "-------------------------------------------------------------------------------\n",
      "\n",
      "Features and its corresponding weights\n",
      "\n",
      "(0.4659319298534034, 'cp')\n",
      "(0.29621870526256827, 'thalach')\n",
      "(0.2224914172002953, 'slope')\n",
      "(0.09353080021445312, 'restecg')\n",
      "(-0.02247491202613983, 'fbs')\n",
      "(-0.07392850606101416, 'chol')\n",
      "(-0.11074042779743816, 'trestbps')\n",
      "(-0.11723305305916876, 'age')\n",
      "(-0.32079895594116126, 'thal')\n",
      "(-0.3248212920091362, 'exang')\n",
      "(-0.3482900400956427, 'oldpeak')\n",
      "(-0.3578127968753344, 'sex')\n",
      "(-0.39577428155997485, 'ca')\n"
     ]
    }
   ],
   "source": [
    "Lambda = 100\n",
    "clf = LogisticRegression(C=1/Lambda,solver='saga') \n",
    "clf.fit(X_train, y_train)\n",
    "evaluate_this_model(clf)"
   ]
  },
  {
   "cell_type": "code",
   "execution_count": 29,
   "metadata": {},
   "outputs": [
    {
     "name": "stdout",
     "output_type": "stream",
     "text": [
      "Your model parameters are as below:\n",
      "\n",
      "LogisticRegression(C=0.01, class_weight=None, dual=False, fit_intercept=True,\n",
      "                   intercept_scaling=1, l1_ratio=None, max_iter=100,\n",
      "                   multi_class='warn', n_jobs=None, penalty='l2',\n",
      "                   random_state=None, solver='sag', tol=0.0001, verbose=0,\n",
      "                   warm_start=False)\n",
      "-------------------------------------------------------------------------------\n",
      "\n",
      "Test and train results for this model:\n",
      "\n",
      "Log_loss on train data is :0.37717740005324063\n",
      "Log_loss on test data is :0.45064831771781194\n",
      " \n",
      "-------------------------------------------------------------------------------\n",
      "Weight vector for this model is :\n",
      "\n",
      "[-0.11722073 -0.35779556  0.46592819 -0.11075112 -0.0739361  -0.02245614\n",
      "  0.09350658  0.29621978 -0.32481814 -0.34829539  0.22247605 -0.39577887\n",
      " -0.32080447]\n",
      "-------------------------------------------------------------------------------\n",
      "\n",
      "Features and its corresponding weights\n",
      "\n",
      "(0.4659281925267055, 'cp')\n",
      "(0.29621977886544576, 'thalach')\n",
      "(0.22247605327187825, 'slope')\n",
      "(0.09350658376935764, 'restecg')\n",
      "(-0.02245613728102663, 'fbs')\n",
      "(-0.0739360997359692, 'chol')\n",
      "(-0.110751120202164, 'trestbps')\n",
      "(-0.11722072731804412, 'age')\n",
      "(-0.32080446789273653, 'thal')\n",
      "(-0.3248181421011267, 'exang')\n",
      "(-0.348295392611007, 'oldpeak')\n",
      "(-0.3577955637944852, 'sex')\n",
      "(-0.39577887254395633, 'ca')\n"
     ]
    }
   ],
   "source": [
    "Lambda = 100\n",
    "clf = LogisticRegression(C=1/Lambda,solver='sag') \n",
    "clf.fit(X_train, y_train)\n",
    "evaluate_this_model(clf)"
   ]
  },
  {
   "cell_type": "markdown",
   "metadata": {},
   "source": [
    "#### 5. Norms"
   ]
  },
  {
   "cell_type": "code",
   "execution_count": 30,
   "metadata": {},
   "outputs": [
    {
     "name": "stdout",
     "output_type": "stream",
     "text": [
      "Your model parameters are as below:\n",
      "\n",
      "LogisticRegression(C=1.0, class_weight=None, dual=False, fit_intercept=True,\n",
      "                   intercept_scaling=1, l1_ratio=None, max_iter=100,\n",
      "                   multi_class='warn', n_jobs=None, penalty='l2',\n",
      "                   random_state=None, solver='warn', tol=0.0001, verbose=0,\n",
      "                   warm_start=False)\n",
      "-------------------------------------------------------------------------------\n",
      "\n",
      "Test and train results for this model:\n",
      "\n",
      "Log_loss on train data is :0.3272500660326862\n",
      "Log_loss on test data is :0.4557784556132889\n",
      " \n",
      "-------------------------------------------------------------------------------\n",
      "Weight vector for this model is :\n",
      "\n",
      "[-0.12507081 -0.86614257  1.00771308 -0.25750495 -0.21673291 -0.0719274\n",
      "  0.15446321  0.47350503 -0.48723319 -0.71126393  0.38213128 -0.83413938\n",
      " -0.62157861]\n",
      "-------------------------------------------------------------------------------\n",
      "\n",
      "Features and its corresponding weights\n",
      "\n",
      "(1.0077130839329096, 'cp')\n",
      "(0.47350502506774894, 'thalach')\n",
      "(0.3821312827666765, 'slope')\n",
      "(0.15446320808346037, 'restecg')\n",
      "(-0.07192740404157828, 'fbs')\n",
      "(-0.12507080711625604, 'age')\n",
      "(-0.21673290547497276, 'chol')\n",
      "(-0.2575049502364377, 'trestbps')\n",
      "(-0.48723318908748126, 'exang')\n",
      "(-0.6215786130252067, 'thal')\n",
      "(-0.7112639324747196, 'oldpeak')\n",
      "(-0.8341393843417162, 'ca')\n",
      "(-0.8661425732262548, 'sex')\n"
     ]
    }
   ],
   "source": [
    "\n",
    "Norm = \"l2\"  #(\"l2\" is defult norm value)\n",
    "Lambda = 100\n",
    "clf = LogisticRegression(penalty=Norm) \n",
    "clf.fit(X_train, y_train)\n",
    "evaluate_this_model(clf)"
   ]
  },
  {
   "cell_type": "code",
   "execution_count": 31,
   "metadata": {},
   "outputs": [
    {
     "name": "stdout",
     "output_type": "stream",
     "text": [
      "Your model parameters are as below:\n",
      "\n",
      "LogisticRegression(C=0.01, class_weight=None, dual=False, fit_intercept=True,\n",
      "                   intercept_scaling=1, l1_ratio=None, max_iter=100,\n",
      "                   multi_class='warn', n_jobs=None, penalty='l1',\n",
      "                   random_state=None, solver='warn', tol=0.0001, verbose=0,\n",
      "                   warm_start=False)\n",
      "-------------------------------------------------------------------------------\n",
      "\n",
      "Test and train results for this model:\n",
      "\n",
      "Log_loss on train data is :0.5188669186735475\n",
      "Log_loss on test data is :0.5568156702688732\n",
      " \n",
      "-------------------------------------------------------------------------------\n",
      "Weight vector for this model is :\n",
      "\n",
      "[ 0.          0.          0.27547823  0.          0.          0.\n",
      "  0.          0.13354673 -0.16452246 -0.24577692  0.         -0.16697794\n",
      " -0.04882149]\n",
      "-------------------------------------------------------------------------------\n",
      "\n",
      "Features and its corresponding weights\n",
      "\n",
      "(0.27547822502669744, 'cp')\n",
      "(0.13354672767793066, 'thalach')\n",
      "(0.0, 'trestbps')\n",
      "(0.0, 'slope')\n",
      "(0.0, 'sex')\n",
      "(0.0, 'restecg')\n",
      "(0.0, 'fbs')\n",
      "(0.0, 'chol')\n",
      "(0.0, 'age')\n",
      "(-0.0488214932592913, 'thal')\n",
      "(-0.16452246173682586, 'exang')\n",
      "(-0.16697793985321296, 'ca')\n",
      "(-0.2457769209830979, 'oldpeak')\n"
     ]
    }
   ],
   "source": [
    "Norm = \"l1\" \n",
    "Lambda = 100\n",
    "clf = LogisticRegression(penalty=Norm,C=1/Lambda) \n",
    "clf.fit(X_train, y_train)\n",
    "evaluate_this_model(clf)"
   ]
  },
  {
   "cell_type": "markdown",
   "metadata": {},
   "source": [
    "##### Here we can understand that 'l1' norm creates more sparsity hence in above weight vector we can see more zeors for all unimportant features.  "
   ]
  },
  {
   "cell_type": "code",
   "execution_count": 32,
   "metadata": {},
   "outputs": [
    {
     "name": "stdout",
     "output_type": "stream",
     "text": [
      "Your model parameters are as below:\n",
      "\n",
      "LogisticRegression(C=0.01, class_weight=None, dual=False, fit_intercept=True,\n",
      "                   intercept_scaling=1, l1_ratio=0.3, max_iter=100,\n",
      "                   multi_class='warn', n_jobs=None, penalty='elasticnet',\n",
      "                   random_state=None, solver='saga', tol=0.0001, verbose=0,\n",
      "                   warm_start=False)\n",
      "-------------------------------------------------------------------------------\n",
      "\n",
      "Test and train results for this model:\n",
      "\n",
      "Log_loss on train data is :0.41027184619693424\n",
      "Log_loss on test data is :0.4785413650341346\n",
      " \n",
      "-------------------------------------------------------------------------------\n",
      "Weight vector for this model is :\n",
      "\n",
      "[-0.0456005  -0.24811603  0.40642771 -0.01408344  0.          0.\n",
      "  0.00041553  0.24981487 -0.27572908 -0.31467832  0.15116438 -0.33749436\n",
      " -0.24879274]\n",
      "-------------------------------------------------------------------------------\n",
      "\n",
      "Features and its corresponding weights\n",
      "\n",
      "(0.40642771334960104, 'cp')\n",
      "(0.24981486636574213, 'thalach')\n",
      "(0.15116438075248642, 'slope')\n",
      "(0.00041552799969098836, 'restecg')\n",
      "(0.0, 'fbs')\n",
      "(0.0, 'chol')\n",
      "(-0.014083435518876418, 'trestbps')\n",
      "(-0.045600502477650566, 'age')\n",
      "(-0.24811603058434012, 'sex')\n",
      "(-0.2487927360364705, 'thal')\n",
      "(-0.27572907637535526, 'exang')\n",
      "(-0.3146783244261616, 'oldpeak')\n",
      "(-0.3374943639878539, 'ca')\n"
     ]
    }
   ],
   "source": [
    "Norm = \"elasticnet\" \n",
    "Lambda = 100\n",
    "algo_style=\"saga\"\n",
    "\n",
    "clf = LogisticRegression(penalty=Norm,C=1/Lambda,l1_ratio =0.3,solver = algo_style) \n",
    "\n",
    "clf.fit(X_train, y_train)\n",
    "evaluate_this_model(clf)"
   ]
  },
  {
   "cell_type": "code",
   "execution_count": 33,
   "metadata": {},
   "outputs": [
    {
     "name": "stdout",
     "output_type": "stream",
     "text": [
      "Your model parameters are as below:\n",
      "\n",
      "LogisticRegression(C=0.01, class_weight=None, dual=False, fit_intercept=True,\n",
      "                   intercept_scaling=1, l1_ratio=0.8, max_iter=100,\n",
      "                   multi_class='warn', n_jobs=None, penalty='elasticnet',\n",
      "                   random_state=None, solver='saga', tol=0.0001, verbose=0,\n",
      "                   warm_start=False)\n",
      "-------------------------------------------------------------------------------\n",
      "\n",
      "Test and train results for this model:\n",
      "\n",
      "Log_loss on train data is :0.4820535019386126\n",
      "Log_loss on test data is :0.5304582574076304\n",
      " \n",
      "-------------------------------------------------------------------------------\n",
      "Weight vector for this model is :\n",
      "\n",
      "[ 0.         -0.07105154  0.31003507  0.          0.          0.\n",
      "  0.          0.17972203 -0.19583914 -0.27538922  0.         -0.2170122\n",
      " -0.10967984]\n",
      "-------------------------------------------------------------------------------\n",
      "\n",
      "Features and its corresponding weights\n",
      "\n",
      "(0.31003507447351525, 'cp')\n",
      "(0.17972202736517934, 'thalach')\n",
      "(0.0, 'trestbps')\n",
      "(0.0, 'slope')\n",
      "(0.0, 'restecg')\n",
      "(0.0, 'fbs')\n",
      "(0.0, 'chol')\n",
      "(0.0, 'age')\n",
      "(-0.07105154180629307, 'sex')\n",
      "(-0.10967984005642893, 'thal')\n",
      "(-0.1958391426121167, 'exang')\n",
      "(-0.21701219939292468, 'ca')\n",
      "(-0.27538921922556797, 'oldpeak')\n"
     ]
    }
   ],
   "source": [
    "Norm = \"elasticnet\" \n",
    "Lambda = 100\n",
    "algo_style=\"saga\"\n",
    "\n",
    "clf = LogisticRegression(penalty=Norm,C=1/Lambda,l1_ratio =0.8,solver = algo_style) \n",
    "\n",
    "clf.fit(X_train, y_train)\n",
    "evaluate_this_model(clf)"
   ]
  },
  {
   "cell_type": "code",
   "execution_count": 34,
   "metadata": {},
   "outputs": [
    {
     "name": "stdout",
     "output_type": "stream",
     "text": [
      "Your model parameters are as below:\n",
      "\n",
      "LogisticRegression(C=0.01, class_weight=None, dual=False, fit_intercept=True,\n",
      "                   intercept_scaling=1, l1_ratio=1, max_iter=100,\n",
      "                   multi_class='warn', n_jobs=None, penalty='elasticnet',\n",
      "                   random_state=None, solver='saga', tol=0.0001, verbose=0,\n",
      "                   warm_start=False)\n",
      "-------------------------------------------------------------------------------\n",
      "\n",
      "Test and train results for this model:\n",
      "\n",
      "Log_loss on train data is :0.5186741799721112\n",
      "Log_loss on test data is :0.5588493053692344\n",
      " \n",
      "-------------------------------------------------------------------------------\n",
      "Weight vector for this model is :\n",
      "\n",
      "[ 0.          0.          0.27603951  0.          0.          0.\n",
      "  0.          0.13388222 -0.16361969 -0.242395    0.         -0.16598348\n",
      " -0.04863948]\n",
      "-------------------------------------------------------------------------------\n",
      "\n",
      "Features and its corresponding weights\n",
      "\n",
      "(0.27603950759479495, 'cp')\n",
      "(0.13388221805323472, 'thalach')\n",
      "(0.0, 'trestbps')\n",
      "(0.0, 'slope')\n",
      "(0.0, 'sex')\n",
      "(0.0, 'restecg')\n",
      "(0.0, 'fbs')\n",
      "(0.0, 'chol')\n",
      "(0.0, 'age')\n",
      "(-0.048639479417458185, 'thal')\n",
      "(-0.16361969037430235, 'exang')\n",
      "(-0.16598348222483966, 'ca')\n",
      "(-0.24239500470177922, 'oldpeak')\n"
     ]
    }
   ],
   "source": [
    "Norm = \"elasticnet\" \n",
    "Lambda = 100\n",
    "algo_style=\"saga\"\n",
    "\n",
    "clf = LogisticRegression(penalty=Norm,C=1/Lambda,l1_ratio =1,solver = algo_style) \n",
    "\n",
    "clf.fit(X_train, y_train)\n",
    "evaluate_this_model(clf)"
   ]
  },
  {
   "cell_type": "markdown",
   "metadata": {},
   "source": [
    "##### 6. dual"
   ]
  },
  {
   "cell_type": "code",
   "execution_count": 35,
   "metadata": {},
   "outputs": [
    {
     "name": "stdout",
     "output_type": "stream",
     "text": [
      "Your model parameters are as below:\n",
      "\n",
      "LogisticRegression(C=0.01, class_weight=None, dual=True, fit_intercept=True,\n",
      "                   intercept_scaling=1, l1_ratio=None, max_iter=100,\n",
      "                   multi_class='warn', n_jobs=None, penalty='l2',\n",
      "                   random_state=None, solver='warn', tol=0.0001, verbose=0,\n",
      "                   warm_start=False)\n",
      "-------------------------------------------------------------------------------\n",
      "\n",
      "Test and train results for this model:\n",
      "\n",
      "Log_loss on train data is :0.37708050512240476\n",
      "Log_loss on test data is :0.4502355666426743\n",
      " \n",
      "-------------------------------------------------------------------------------\n",
      "Weight vector for this model is :\n",
      "\n",
      "[-0.11627082 -0.35707687  0.46629307 -0.11083062 -0.07416893 -0.02245782\n",
      "  0.09359785  0.29692593 -0.32536016 -0.34952089  0.22235771 -0.39662016\n",
      " -0.32122508]\n",
      "-------------------------------------------------------------------------------\n",
      "\n",
      "Features and its corresponding weights\n",
      "\n",
      "(0.46629306996743425, 'cp')\n",
      "(0.29692592510232096, 'thalach')\n",
      "(0.22235771313978137, 'slope')\n",
      "(0.09359785486624109, 'restecg')\n",
      "(-0.022457818859720074, 'fbs')\n",
      "(-0.07416893019477606, 'chol')\n",
      "(-0.11083062404044468, 'trestbps')\n",
      "(-0.11627082285090033, 'age')\n",
      "(-0.321225075086129, 'thal')\n",
      "(-0.32536016393465844, 'exang')\n",
      "(-0.34952088896569977, 'oldpeak')\n",
      "(-0.35707687025859125, 'sex')\n",
      "(-0.39662016347182727, 'ca')\n"
     ]
    }
   ],
   "source": [
    "Lambda =100\n",
    "clf = LogisticRegression(C=1/Lambda,dual=True) \n",
    "clf.fit(X_train, y_train)\n",
    "evaluate_this_model(clf)\n"
   ]
  },
  {
   "cell_type": "code",
   "execution_count": 36,
   "metadata": {},
   "outputs": [
    {
     "name": "stdout",
     "output_type": "stream",
     "text": [
      "Your model parameters are as below:\n",
      "\n",
      "LogisticRegression(C=0.01, class_weight=None, dual=False, fit_intercept=True,\n",
      "                   intercept_scaling=1, l1_ratio=None, max_iter=100,\n",
      "                   multi_class='warn', n_jobs=None, penalty='l2',\n",
      "                   random_state=None, solver='warn', tol=0.0001, verbose=0,\n",
      "                   warm_start=False)\n",
      "-------------------------------------------------------------------------------\n",
      "\n",
      "Test and train results for this model:\n",
      "\n",
      "Log_loss on train data is :0.37708852725197956\n",
      "Log_loss on test data is :0.45024117101913325\n",
      " \n",
      "-------------------------------------------------------------------------------\n",
      "Weight vector for this model is :\n",
      "\n",
      "[-0.1162764  -0.35704289  0.46627204 -0.1108161  -0.07415849 -0.02243657\n",
      "  0.09358206  0.29687079 -0.32536579 -0.34947532  0.22238931 -0.39660736\n",
      " -0.3211878 ]\n",
      "-------------------------------------------------------------------------------\n",
      "\n",
      "Features and its corresponding weights\n",
      "\n",
      "(0.4662720387604094, 'cp')\n",
      "(0.2968707859405776, 'thalach')\n",
      "(0.222389314615357, 'slope')\n",
      "(0.09358206343534867, 'restecg')\n",
      "(-0.0224365681261141, 'fbs')\n",
      "(-0.07415848778475895, 'chol')\n",
      "(-0.11081610040096022, 'trestbps')\n",
      "(-0.11627640061354413, 'age')\n",
      "(-0.32118780446572726, 'thal')\n",
      "(-0.3253657900339657, 'exang')\n",
      "(-0.34947531739243887, 'oldpeak')\n",
      "(-0.3570428886554475, 'sex')\n",
      "(-0.39660736288399423, 'ca')\n"
     ]
    }
   ],
   "source": [
    "Lambda =100\n",
    "clf = LogisticRegression(C=1/Lambda,dual=False) \n",
    "clf.fit(X_train, y_train)\n",
    "evaluate_this_model(clf)\n"
   ]
  },
  {
   "cell_type": "markdown",
   "metadata": {},
   "source": [
    "###### 7. class_weight "
   ]
  },
  {
   "cell_type": "code",
   "execution_count": 37,
   "metadata": {},
   "outputs": [
    {
     "name": "stdout",
     "output_type": "stream",
     "text": [
      "Your model parameters are as below:\n",
      "\n",
      "LogisticRegression(C=1.0, class_weight='balanced', dual=False,\n",
      "                   fit_intercept=True, intercept_scaling=1, l1_ratio=None,\n",
      "                   max_iter=100, multi_class='warn', n_jobs=None, penalty='l2',\n",
      "                   random_state=None, solver='warn', tol=0.0001, verbose=0,\n",
      "                   warm_start=False)\n",
      "-------------------------------------------------------------------------------\n",
      "\n",
      "Test and train results for this model:\n",
      "\n",
      "Log_loss on train data is :0.32758117968983025\n",
      "Log_loss on test data is :0.45552470161556524\n",
      " \n",
      "-------------------------------------------------------------------------------\n",
      "Weight vector for this model is :\n",
      "\n",
      "[-0.13009689 -0.87322448  1.00549446 -0.25670031 -0.22160594 -0.06800891\n",
      "  0.1501708   0.4786306  -0.48389142 -0.70433315  0.38645041 -0.83938897\n",
      " -0.61900803]\n",
      "-------------------------------------------------------------------------------\n",
      "\n",
      "Features and its corresponding weights\n",
      "\n",
      "(1.0054944626442306, 'cp')\n",
      "(0.47863060394074025, 'thalach')\n",
      "(0.38645041017386167, 'slope')\n",
      "(0.15017079896689806, 'restecg')\n",
      "(-0.06800890632926584, 'fbs')\n",
      "(-0.13009689384983136, 'age')\n",
      "(-0.22160594131626263, 'chol')\n",
      "(-0.256700305352733, 'trestbps')\n",
      "(-0.48389142066077795, 'exang')\n",
      "(-0.6190080327632315, 'thal')\n",
      "(-0.7043331524124586, 'oldpeak')\n",
      "(-0.8393889736452995, 'ca')\n",
      "(-0.8732244811015932, 'sex')\n"
     ]
    }
   ],
   "source": [
    "clf = LogisticRegression(class_weight = 'balanced') \n",
    "clf.fit(X_train, y_train)\n",
    "evaluate_this_model(clf)"
   ]
  },
  {
   "cell_type": "code",
   "execution_count": 38,
   "metadata": {
    "scrolled": false
   },
   "outputs": [
    {
     "name": "stdout",
     "output_type": "stream",
     "text": [
      "Your model parameters are as below:\n",
      "\n",
      "LogisticRegression(C=1.0, class_weight=None, dual=False, fit_intercept=True,\n",
      "                   intercept_scaling=1, l1_ratio=None, max_iter=100,\n",
      "                   multi_class='warn', n_jobs=None, penalty='l2',\n",
      "                   random_state=None, solver='warn', tol=0.0001, verbose=0,\n",
      "                   warm_start=False)\n",
      "-------------------------------------------------------------------------------\n",
      "\n",
      "Test and train results for this model:\n",
      "\n",
      "Log_loss on train data is :0.3272500660326862\n",
      "Log_loss on test data is :0.4557784556132889\n",
      " \n",
      "-------------------------------------------------------------------------------\n",
      "Weight vector for this model is :\n",
      "\n",
      "[-0.12507081 -0.86614257  1.00771308 -0.25750495 -0.21673291 -0.0719274\n",
      "  0.15446321  0.47350503 -0.48723319 -0.71126393  0.38213128 -0.83413938\n",
      " -0.62157861]\n",
      "-------------------------------------------------------------------------------\n",
      "\n",
      "Features and its corresponding weights\n",
      "\n",
      "(1.0077130839329096, 'cp')\n",
      "(0.47350502506774894, 'thalach')\n",
      "(0.3821312827666765, 'slope')\n",
      "(0.15446320808346037, 'restecg')\n",
      "(-0.07192740404157828, 'fbs')\n",
      "(-0.12507080711625604, 'age')\n",
      "(-0.21673290547497276, 'chol')\n",
      "(-0.2575049502364377, 'trestbps')\n",
      "(-0.48723318908748126, 'exang')\n",
      "(-0.6215786130252067, 'thal')\n",
      "(-0.7112639324747196, 'oldpeak')\n",
      "(-0.8341393843417162, 'ca')\n",
      "(-0.8661425732262548, 'sex')\n"
     ]
    }
   ],
   "source": [
    "clf = LogisticRegression(class_weight = None) \n",
    "clf.fit(X_train, y_train)\n",
    "evaluate_this_model(clf)"
   ]
  },
  {
   "cell_type": "markdown",
   "metadata": {},
   "source": [
    "##### Here the data we have  is already balanced hence there no big advantage here by using class_weight parameter."
   ]
  },
  {
   "cell_type": "code",
   "execution_count": 39,
   "metadata": {
    "scrolled": false
   },
   "outputs": [
    {
     "name": "stdout",
     "output_type": "stream",
     "text": [
      "Your model parameters are as below:\n",
      "\n",
      "LogisticRegression(C=1.0, class_weight={0: 1, 1: 1}, dual=False,\n",
      "                   fit_intercept=True, intercept_scaling=1, l1_ratio=None,\n",
      "                   max_iter=100, multi_class='warn', n_jobs=None, penalty='l2',\n",
      "                   random_state=None, solver='warn', tol=0.0001, verbose=0,\n",
      "                   warm_start=False)\n",
      "-------------------------------------------------------------------------------\n",
      "\n",
      "Test and train results for this model:\n",
      "\n",
      "Log_loss on train data is :0.3272500660326862\n",
      "Log_loss on test data is :0.4557784556132889\n",
      " \n",
      "-------------------------------------------------------------------------------\n",
      "Weight vector for this model is :\n",
      "\n",
      "[-0.12507081 -0.86614257  1.00771308 -0.25750495 -0.21673291 -0.0719274\n",
      "  0.15446321  0.47350503 -0.48723319 -0.71126393  0.38213128 -0.83413938\n",
      " -0.62157861]\n",
      "-------------------------------------------------------------------------------\n",
      "\n",
      "Features and its corresponding weights\n",
      "\n",
      "(1.0077130839329096, 'cp')\n",
      "(0.47350502506774894, 'thalach')\n",
      "(0.3821312827666765, 'slope')\n",
      "(0.15446320808346037, 'restecg')\n",
      "(-0.07192740404157828, 'fbs')\n",
      "(-0.12507080711625604, 'age')\n",
      "(-0.21673290547497276, 'chol')\n",
      "(-0.2575049502364377, 'trestbps')\n",
      "(-0.48723318908748126, 'exang')\n",
      "(-0.6215786130252067, 'thal')\n",
      "(-0.7112639324747196, 'oldpeak')\n",
      "(-0.8341393843417162, 'ca')\n",
      "(-0.8661425732262548, 'sex')\n"
     ]
    }
   ],
   "source": [
    "clf = LogisticRegression(class_weight ={1:1, 0:1}) \n",
    "clf.fit(X_train, y_train)\n",
    "evaluate_this_model(clf)"
   ]
  },
  {
   "cell_type": "markdown",
   "metadata": {},
   "source": [
    "##### 8. n_jobs"
   ]
  },
  {
   "cell_type": "code",
   "execution_count": 40,
   "metadata": {},
   "outputs": [
    {
     "name": "stdout",
     "output_type": "stream",
     "text": [
      "[LibLinear]"
     ]
    },
    {
     "data": {
      "text/plain": [
       "LogisticRegression(C=1.0, class_weight=None, dual=False, fit_intercept=True,\n",
       "                   intercept_scaling=1, l1_ratio=None, max_iter=100,\n",
       "                   multi_class='warn', n_jobs=-1, penalty='l2',\n",
       "                   random_state=None, solver='warn', tol=0.0001, verbose=-1,\n",
       "                   warm_start=False)"
      ]
     },
     "execution_count": 40,
     "metadata": {},
     "output_type": "execute_result"
    }
   ],
   "source": [
    "clf = LogisticRegression(n_jobs=-1,verbose=-1) \n",
    "clf.fit(X_train, y_train)\n",
    "#evaluate_this_model(clf)"
   ]
  },
  {
   "cell_type": "markdown",
   "metadata": {},
   "source": [
    "#### To find the appropriate parameter values,  we have a implemented cv algorithms from sklearn library . Now let's cross validate with setting some range of parameters at once "
   ]
  },
  {
   "cell_type": "code",
   "execution_count": 41,
   "metadata": {
    "scrolled": false
   },
   "outputs": [
    {
     "name": "stdout",
     "output_type": "stream",
     "text": [
      "Fitting 5 folds for each of 1536 candidates, totalling 7680 fits\n"
     ]
    },
    {
     "name": "stderr",
     "output_type": "stream",
     "text": [
      "[Parallel(n_jobs=-1)]: Using backend LokyBackend with 8 concurrent workers.\n",
      "[Parallel(n_jobs=-1)]: Done   2 tasks      | elapsed:    1.7s\n",
      "[Parallel(n_jobs=-1)]: Done  70 tasks      | elapsed:    1.9s\n",
      "[Parallel(n_jobs=-1)]: Done 1130 tasks      | elapsed:    8.6s\n",
      "[Parallel(n_jobs=-1)]: Done 2642 tasks      | elapsed:   17.3s\n",
      "[Parallel(n_jobs=-1)]: Done 4586 tasks      | elapsed:   27.4s\n",
      "[Parallel(n_jobs=-1)]: Done 6962 tasks      | elapsed:   37.3s\n",
      "[Parallel(n_jobs=-1)]: Done 7680 out of 7680 | elapsed:   40.2s finished\n"
     ]
    }
   ],
   "source": [
    "parameters={'C':[10**-6,10**-5,10**-3,10**-4, 10**-2, 10**-1,10**0, 10**2, 10**3,10**4,10**5,10**6],\n",
    "            'penalty':['l1','l2'],\n",
    "            'tol':[0.0001,1e-4,1e-5,0.01],\n",
    "            'fit_intercept':[True,False],\n",
    "            'intercept_scaling':[0.1,0.01,1,10],\n",
    "            'warm_start': [True,False]\n",
    "            } #Setting all parameters in a single pipeline \n",
    "\n",
    "#log_c = list(map(lambda x : float(math.log(x)),parameters['C']))\n",
    "\n",
    "clf_log = LogisticRegression(n_jobs=-1)\n",
    "\n",
    "clf = GridSearchCV(clf_log, parameters, cv=5, scoring='neg_log_loss',return_train_score =True,n_jobs=-1,verbose=5)\n",
    "clf.fit(X_train, y_train)\n",
    "\n",
    "train_loss= clf.cv_results_['mean_train_score']\n",
    "cv_loss = clf.cv_results_['mean_test_score'] \n",
    "\n"
   ]
  },
  {
   "cell_type": "code",
   "execution_count": 42,
   "metadata": {},
   "outputs": [
    {
     "name": "stdout",
     "output_type": "stream",
     "text": [
      "Printing train and test loss that we got in every fit\n"
     ]
    },
    {
     "data": {
      "text/html": [
       "<div>\n",
       "<style scoped>\n",
       "    .dataframe tbody tr th:only-of-type {\n",
       "        vertical-align: middle;\n",
       "    }\n",
       "\n",
       "    .dataframe tbody tr th {\n",
       "        vertical-align: top;\n",
       "    }\n",
       "\n",
       "    .dataframe thead th {\n",
       "        text-align: right;\n",
       "    }\n",
       "</style>\n",
       "<table border=\"1\" class=\"dataframe\">\n",
       "  <thead>\n",
       "    <tr style=\"text-align: right;\">\n",
       "      <th></th>\n",
       "      <th>cv_loss</th>\n",
       "      <th>train_loss</th>\n",
       "    </tr>\n",
       "  </thead>\n",
       "  <tbody>\n",
       "    <tr>\n",
       "      <th>0</th>\n",
       "      <td>-0.693147</td>\n",
       "      <td>-0.693147</td>\n",
       "    </tr>\n",
       "    <tr>\n",
       "      <th>1</th>\n",
       "      <td>-0.693147</td>\n",
       "      <td>-0.693147</td>\n",
       "    </tr>\n",
       "    <tr>\n",
       "      <th>2</th>\n",
       "      <td>-0.693147</td>\n",
       "      <td>-0.693147</td>\n",
       "    </tr>\n",
       "    <tr>\n",
       "      <th>3</th>\n",
       "      <td>-0.693147</td>\n",
       "      <td>-0.693147</td>\n",
       "    </tr>\n",
       "    <tr>\n",
       "      <th>4</th>\n",
       "      <td>-0.693147</td>\n",
       "      <td>-0.693147</td>\n",
       "    </tr>\n",
       "    <tr>\n",
       "      <th>5</th>\n",
       "      <td>-0.693147</td>\n",
       "      <td>-0.693147</td>\n",
       "    </tr>\n",
       "    <tr>\n",
       "      <th>6</th>\n",
       "      <td>-0.693147</td>\n",
       "      <td>-0.693147</td>\n",
       "    </tr>\n",
       "    <tr>\n",
       "      <th>7</th>\n",
       "      <td>-0.693147</td>\n",
       "      <td>-0.693147</td>\n",
       "    </tr>\n",
       "    <tr>\n",
       "      <th>8</th>\n",
       "      <td>-0.692921</td>\n",
       "      <td>-0.692918</td>\n",
       "    </tr>\n",
       "    <tr>\n",
       "      <th>9</th>\n",
       "      <td>-0.692921</td>\n",
       "      <td>-0.692918</td>\n",
       "    </tr>\n",
       "    <tr>\n",
       "      <th>10</th>\n",
       "      <td>-0.692921</td>\n",
       "      <td>-0.692918</td>\n",
       "    </tr>\n",
       "    <tr>\n",
       "      <th>11</th>\n",
       "      <td>-0.692921</td>\n",
       "      <td>-0.692918</td>\n",
       "    </tr>\n",
       "    <tr>\n",
       "      <th>12</th>\n",
       "      <td>-0.692921</td>\n",
       "      <td>-0.692918</td>\n",
       "    </tr>\n",
       "    <tr>\n",
       "      <th>13</th>\n",
       "      <td>-0.692921</td>\n",
       "      <td>-0.692918</td>\n",
       "    </tr>\n",
       "    <tr>\n",
       "      <th>14</th>\n",
       "      <td>-0.692921</td>\n",
       "      <td>-0.692918</td>\n",
       "    </tr>\n",
       "    <tr>\n",
       "      <th>15</th>\n",
       "      <td>-0.692921</td>\n",
       "      <td>-0.692918</td>\n",
       "    </tr>\n",
       "    <tr>\n",
       "      <th>16</th>\n",
       "      <td>-0.693147</td>\n",
       "      <td>-0.693147</td>\n",
       "    </tr>\n",
       "    <tr>\n",
       "      <th>17</th>\n",
       "      <td>-0.693147</td>\n",
       "      <td>-0.693147</td>\n",
       "    </tr>\n",
       "    <tr>\n",
       "      <th>18</th>\n",
       "      <td>-0.693147</td>\n",
       "      <td>-0.693147</td>\n",
       "    </tr>\n",
       "    <tr>\n",
       "      <th>19</th>\n",
       "      <td>-0.693147</td>\n",
       "      <td>-0.693147</td>\n",
       "    </tr>\n",
       "    <tr>\n",
       "      <th>20</th>\n",
       "      <td>-0.693147</td>\n",
       "      <td>-0.693147</td>\n",
       "    </tr>\n",
       "    <tr>\n",
       "      <th>21</th>\n",
       "      <td>-0.693147</td>\n",
       "      <td>-0.693147</td>\n",
       "    </tr>\n",
       "    <tr>\n",
       "      <th>22</th>\n",
       "      <td>-0.693147</td>\n",
       "      <td>-0.693147</td>\n",
       "    </tr>\n",
       "    <tr>\n",
       "      <th>23</th>\n",
       "      <td>-0.693147</td>\n",
       "      <td>-0.693147</td>\n",
       "    </tr>\n",
       "    <tr>\n",
       "      <th>24</th>\n",
       "      <td>-0.692921</td>\n",
       "      <td>-0.692918</td>\n",
       "    </tr>\n",
       "    <tr>\n",
       "      <th>25</th>\n",
       "      <td>-0.692921</td>\n",
       "      <td>-0.692918</td>\n",
       "    </tr>\n",
       "    <tr>\n",
       "      <th>26</th>\n",
       "      <td>-0.692921</td>\n",
       "      <td>-0.692918</td>\n",
       "    </tr>\n",
       "    <tr>\n",
       "      <th>27</th>\n",
       "      <td>-0.692921</td>\n",
       "      <td>-0.692918</td>\n",
       "    </tr>\n",
       "    <tr>\n",
       "      <th>28</th>\n",
       "      <td>-0.692921</td>\n",
       "      <td>-0.692918</td>\n",
       "    </tr>\n",
       "    <tr>\n",
       "      <th>29</th>\n",
       "      <td>-0.692921</td>\n",
       "      <td>-0.692918</td>\n",
       "    </tr>\n",
       "    <tr>\n",
       "      <th>...</th>\n",
       "      <td>...</td>\n",
       "      <td>...</td>\n",
       "    </tr>\n",
       "    <tr>\n",
       "      <th>1506</th>\n",
       "      <td>-0.346498</td>\n",
       "      <td>-0.325634</td>\n",
       "    </tr>\n",
       "    <tr>\n",
       "      <th>1507</th>\n",
       "      <td>-0.346501</td>\n",
       "      <td>-0.325634</td>\n",
       "    </tr>\n",
       "    <tr>\n",
       "      <th>1508</th>\n",
       "      <td>-0.346505</td>\n",
       "      <td>-0.325634</td>\n",
       "    </tr>\n",
       "    <tr>\n",
       "      <th>1509</th>\n",
       "      <td>-0.346505</td>\n",
       "      <td>-0.325634</td>\n",
       "    </tr>\n",
       "    <tr>\n",
       "      <th>1510</th>\n",
       "      <td>-0.345991</td>\n",
       "      <td>-0.325668</td>\n",
       "    </tr>\n",
       "    <tr>\n",
       "      <th>1511</th>\n",
       "      <td>-0.346110</td>\n",
       "      <td>-0.325680</td>\n",
       "    </tr>\n",
       "    <tr>\n",
       "      <th>1512</th>\n",
       "      <td>-0.346505</td>\n",
       "      <td>-0.325634</td>\n",
       "    </tr>\n",
       "    <tr>\n",
       "      <th>1513</th>\n",
       "      <td>-0.346505</td>\n",
       "      <td>-0.325634</td>\n",
       "    </tr>\n",
       "    <tr>\n",
       "      <th>1514</th>\n",
       "      <td>-0.346505</td>\n",
       "      <td>-0.325634</td>\n",
       "    </tr>\n",
       "    <tr>\n",
       "      <th>1515</th>\n",
       "      <td>-0.346505</td>\n",
       "      <td>-0.325634</td>\n",
       "    </tr>\n",
       "    <tr>\n",
       "      <th>1516</th>\n",
       "      <td>-0.346505</td>\n",
       "      <td>-0.325634</td>\n",
       "    </tr>\n",
       "    <tr>\n",
       "      <th>1517</th>\n",
       "      <td>-0.346505</td>\n",
       "      <td>-0.325634</td>\n",
       "    </tr>\n",
       "    <tr>\n",
       "      <th>1518</th>\n",
       "      <td>-0.346224</td>\n",
       "      <td>-0.325642</td>\n",
       "    </tr>\n",
       "    <tr>\n",
       "      <th>1519</th>\n",
       "      <td>-0.346224</td>\n",
       "      <td>-0.325642</td>\n",
       "    </tr>\n",
       "    <tr>\n",
       "      <th>1520</th>\n",
       "      <td>-0.346507</td>\n",
       "      <td>-0.325634</td>\n",
       "    </tr>\n",
       "    <tr>\n",
       "      <th>1521</th>\n",
       "      <td>-0.346500</td>\n",
       "      <td>-0.325634</td>\n",
       "    </tr>\n",
       "    <tr>\n",
       "      <th>1522</th>\n",
       "      <td>-0.346499</td>\n",
       "      <td>-0.325634</td>\n",
       "    </tr>\n",
       "    <tr>\n",
       "      <th>1523</th>\n",
       "      <td>-0.346500</td>\n",
       "      <td>-0.325634</td>\n",
       "    </tr>\n",
       "    <tr>\n",
       "      <th>1524</th>\n",
       "      <td>-0.346505</td>\n",
       "      <td>-0.325634</td>\n",
       "    </tr>\n",
       "    <tr>\n",
       "      <th>1525</th>\n",
       "      <td>-0.346506</td>\n",
       "      <td>-0.325634</td>\n",
       "    </tr>\n",
       "    <tr>\n",
       "      <th>1526</th>\n",
       "      <td>-0.345831</td>\n",
       "      <td>-0.325698</td>\n",
       "    </tr>\n",
       "    <tr>\n",
       "      <th>1527</th>\n",
       "      <td>-0.345730</td>\n",
       "      <td>-0.325677</td>\n",
       "    </tr>\n",
       "    <tr>\n",
       "      <th>1528</th>\n",
       "      <td>-0.346505</td>\n",
       "      <td>-0.325634</td>\n",
       "    </tr>\n",
       "    <tr>\n",
       "      <th>1529</th>\n",
       "      <td>-0.346505</td>\n",
       "      <td>-0.325634</td>\n",
       "    </tr>\n",
       "    <tr>\n",
       "      <th>1530</th>\n",
       "      <td>-0.346505</td>\n",
       "      <td>-0.325634</td>\n",
       "    </tr>\n",
       "    <tr>\n",
       "      <th>1531</th>\n",
       "      <td>-0.346505</td>\n",
       "      <td>-0.325634</td>\n",
       "    </tr>\n",
       "    <tr>\n",
       "      <th>1532</th>\n",
       "      <td>-0.346505</td>\n",
       "      <td>-0.325634</td>\n",
       "    </tr>\n",
       "    <tr>\n",
       "      <th>1533</th>\n",
       "      <td>-0.346505</td>\n",
       "      <td>-0.325634</td>\n",
       "    </tr>\n",
       "    <tr>\n",
       "      <th>1534</th>\n",
       "      <td>-0.346224</td>\n",
       "      <td>-0.325642</td>\n",
       "    </tr>\n",
       "    <tr>\n",
       "      <th>1535</th>\n",
       "      <td>-0.346224</td>\n",
       "      <td>-0.325642</td>\n",
       "    </tr>\n",
       "  </tbody>\n",
       "</table>\n",
       "<p>1536 rows × 2 columns</p>\n",
       "</div>"
      ],
      "text/plain": [
       "       cv_loss  train_loss\n",
       "0    -0.693147   -0.693147\n",
       "1    -0.693147   -0.693147\n",
       "2    -0.693147   -0.693147\n",
       "3    -0.693147   -0.693147\n",
       "4    -0.693147   -0.693147\n",
       "5    -0.693147   -0.693147\n",
       "6    -0.693147   -0.693147\n",
       "7    -0.693147   -0.693147\n",
       "8    -0.692921   -0.692918\n",
       "9    -0.692921   -0.692918\n",
       "10   -0.692921   -0.692918\n",
       "11   -0.692921   -0.692918\n",
       "12   -0.692921   -0.692918\n",
       "13   -0.692921   -0.692918\n",
       "14   -0.692921   -0.692918\n",
       "15   -0.692921   -0.692918\n",
       "16   -0.693147   -0.693147\n",
       "17   -0.693147   -0.693147\n",
       "18   -0.693147   -0.693147\n",
       "19   -0.693147   -0.693147\n",
       "20   -0.693147   -0.693147\n",
       "21   -0.693147   -0.693147\n",
       "22   -0.693147   -0.693147\n",
       "23   -0.693147   -0.693147\n",
       "24   -0.692921   -0.692918\n",
       "25   -0.692921   -0.692918\n",
       "26   -0.692921   -0.692918\n",
       "27   -0.692921   -0.692918\n",
       "28   -0.692921   -0.692918\n",
       "29   -0.692921   -0.692918\n",
       "...        ...         ...\n",
       "1506 -0.346498   -0.325634\n",
       "1507 -0.346501   -0.325634\n",
       "1508 -0.346505   -0.325634\n",
       "1509 -0.346505   -0.325634\n",
       "1510 -0.345991   -0.325668\n",
       "1511 -0.346110   -0.325680\n",
       "1512 -0.346505   -0.325634\n",
       "1513 -0.346505   -0.325634\n",
       "1514 -0.346505   -0.325634\n",
       "1515 -0.346505   -0.325634\n",
       "1516 -0.346505   -0.325634\n",
       "1517 -0.346505   -0.325634\n",
       "1518 -0.346224   -0.325642\n",
       "1519 -0.346224   -0.325642\n",
       "1520 -0.346507   -0.325634\n",
       "1521 -0.346500   -0.325634\n",
       "1522 -0.346499   -0.325634\n",
       "1523 -0.346500   -0.325634\n",
       "1524 -0.346505   -0.325634\n",
       "1525 -0.346506   -0.325634\n",
       "1526 -0.345831   -0.325698\n",
       "1527 -0.345730   -0.325677\n",
       "1528 -0.346505   -0.325634\n",
       "1529 -0.346505   -0.325634\n",
       "1530 -0.346505   -0.325634\n",
       "1531 -0.346505   -0.325634\n",
       "1532 -0.346505   -0.325634\n",
       "1533 -0.346505   -0.325634\n",
       "1534 -0.346224   -0.325642\n",
       "1535 -0.346224   -0.325642\n",
       "\n",
       "[1536 rows x 2 columns]"
      ]
     },
     "execution_count": 42,
     "metadata": {},
     "output_type": "execute_result"
    }
   ],
   "source": [
    "results= pd.DataFrame({\"train_loss\":train_loss,\"cv_loss\":cv_loss})\n",
    "print (\"Printing train and test loss that we got in every fit\")\n",
    "results"
   ]
  },
  {
   "cell_type": "code",
   "execution_count": 43,
   "metadata": {},
   "outputs": [
    {
     "data": {
      "text/plain": [
       "LogisticRegression(C=1, class_weight=None, dual=False, fit_intercept=False,\n",
       "                   intercept_scaling=0.1, l1_ratio=None, max_iter=100,\n",
       "                   multi_class='warn', n_jobs=-1, penalty='l1',\n",
       "                   random_state=None, solver='warn', tol=0.01, verbose=0,\n",
       "                   warm_start=False)"
      ]
     },
     "execution_count": 43,
     "metadata": {},
     "output_type": "execute_result"
    }
   ],
   "source": [
    "clf = clf.best_estimator_\n",
    "clf\n"
   ]
  },
  {
   "cell_type": "code",
   "execution_count": 44,
   "metadata": {},
   "outputs": [
    {
     "name": "stdout",
     "output_type": "stream",
     "text": [
      "Log_loss on train data is :0.3278963703919748\n",
      "Log_loss on test data is :0.4549224988639386\n"
     ]
    }
   ],
   "source": [
    "\n",
    "clf.fit(X_train, y_train)\n",
    "\n",
    "train_loss = log_loss(y_train, clf.predict_proba(X_train)[:,1])\n",
    "test_loss  =log_loss(y_test, clf.predict_proba(X_test)[:,1])\n",
    "\n",
    "\n",
    "print(\"Log_loss on train data is :{}\".format(train_loss))\n",
    "print(\"Log_loss on test data is :{}\".format(test_loss))"
   ]
  },
  {
   "cell_type": "code",
   "execution_count": 45,
   "metadata": {},
   "outputs": [
    {
     "data": {
      "image/png": "[encoded data removed]",
      "text/plain": [
       "<Figure size 432x288 with 1 Axes>"
      ]
     },
     "metadata": {},
     "output_type": "display_data"
    }
   ],
   "source": [
    "train_fpr, train_tpr, thresholds = roc_curve(y_train, clf.predict_proba(X_train)[:,1])\n",
    "test_fpr, test_tpr, thresholds = roc_curve(y_test, clf.predict_proba(X_test)[:,1])\n",
    "\n",
    "plt.grid()\n",
    "plt.plot(train_fpr, train_tpr, label=\"train AUC =\"+str(auc(train_fpr, train_tpr)))\n",
    "plt.plot(test_fpr, test_tpr, label=\"test AUC =\"+str(auc(test_fpr, test_tpr)))\n",
    "plt.legend()\n",
    "plt.xlabel(\"FPR\")\n",
    "plt.ylabel(\"TPR\")\n",
    "plt.title(\"ROC for Train and Test data with best_fit\")\n",
    "plt.show()"
   ]
  },
  {
   "cell_type": "code",
   "execution_count": 46,
   "metadata": {},
   "outputs": [
    {
     "data": {
      "image/png": "[encoded data removed]",
      "text/plain": [
       "<Figure size 720x288 with 4 Axes>"
      ]
     },
     "metadata": {},
     "output_type": "display_data"
    }
   ],
   "source": [
    "#ploting Confusion matrix\n",
    "#Ref:https://stackoverflow.com/questions/19233771/sklearn-plot-confusion-matrix-with-labels/48018785\n",
    "def plotcm (cm,ax,title):\n",
    "    sns.heatmap(cm, ax=ax,annot=True,fmt='d',yticklabels=3,annot_kws={'size':20});\n",
    "    ax.set_xlabel('Predicted');\n",
    "    ax.set_ylabel('Actual'); \n",
    "    ax.set_title('Confusion Matrix for {} '.format(title)); \n",
    "    ax.xaxis.set_ticklabels(['NO', 'YES']); \n",
    "    ax.yaxis.set_ticklabels(['NO', 'YES']);\n",
    "\n",
    "\n",
    "fig, subplt = plt.subplots(1, 2,figsize=(10, 4)) \n",
    "cm=confusion_matrix(y_train, clf.predict(X_train))\n",
    "ax= subplt[0]\n",
    "plotcm(cm,ax,'Train data')\n",
    "\n",
    "cm=confusion_matrix(y_test, clf.predict(X_test))\n",
    "ax= subplt[1]\n",
    "plotcm(cm,ax,'Test data')"
   ]
  },
  {
   "cell_type": "code",
   "execution_count": 47,
   "metadata": {},
   "outputs": [],
   "source": [
    "feature_weights=sorted(zip(clf.coef_[0],column_names),reverse = True)"
   ]
  },
  {
   "cell_type": "code",
   "execution_count": 48,
   "metadata": {},
   "outputs": [
    {
     "data": {
      "text/plain": [
       "[(0.9805394613335736, 'cp'),\n",
       " (0.4523779537598919, 'thalach'),\n",
       " (0.39376443709585435, 'slope'),\n",
       " (0.1410402267340785, 'restecg'),\n",
       " (-0.05642703146874516, 'fbs')]"
      ]
     },
     "execution_count": 48,
     "metadata": {},
     "output_type": "execute_result"
    }
   ],
   "source": [
    "feature_weights[:5]"
   ]
  }
 ],
 "metadata": {
  "kernelspec": {
   "display_name": "Python 3",
   "language": "python",
   "name": "python3"
  },
  "language_info": {
   "codemirror_mode": {
    "name": "ipython",
    "version": 3
   },
   "file_extension": ".py",
   "mimetype": "text/x-python",
   "name": "python",
   "nbconvert_exporter": "python",
   "pygments_lexer": "ipython3",
   "version": "3.5.2"
  }
 },
 "nbformat": 4,
 "nbformat_minor": 2
}
